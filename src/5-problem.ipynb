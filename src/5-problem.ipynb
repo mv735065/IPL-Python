{
 "cells": [
  {
   "cell_type": "markdown",
   "id": "afdf2bd9",
   "metadata": {},
   "source": []
  },
  {
   "cell_type": "code",
   "execution_count": 1,
   "id": "d946fb5c",
   "metadata": {},
   "outputs": [],
   "source": [
    "import pandas as pd\n",
    "dfMatches=pd.read_csv('../public/matches.csv')\n",
    "# // Find the number of times each team won the toss and also won the match\n",
    "\n",
    "result=dfMatches[dfMatches.toss_winner==dfMatches.winner].groupby('winner')['winner'].size().reset_index(name='count')\n",
    "result.to_csv('../Output/5-problem.csv')\n"
   ]
  },
  {
   "cell_type": "code",
   "execution_count": null,
   "id": "94c5d9aa",
   "metadata": {},
   "outputs": [],
   "source": []
  },
  {
   "cell_type": "code",
   "execution_count": null,
   "id": "bd40fcfa",
   "metadata": {},
   "outputs": [],
   "source": []
  }
 ],
 "metadata": {
  "kernelspec": {
   "display_name": "venv",
   "language": "python",
   "name": "python3"
  },
  "language_info": {
   "codemirror_mode": {
    "name": "ipython",
    "version": 3
   },
   "file_extension": ".py",
   "mimetype": "text/x-python",
   "name": "python",
   "nbconvert_exporter": "python",
   "pygments_lexer": "ipython3",
   "version": "3.12.3"
  }
 },
 "nbformat": 4,
 "nbformat_minor": 5
}
