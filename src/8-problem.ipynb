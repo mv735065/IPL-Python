{
 "cells": [
  {
   "cell_type": "code",
   "execution_count": 1,
   "id": "6542eaea",
   "metadata": {},
   "outputs": [],
   "source": [
    "import pandas as pd\n",
    "dfDeliveries=pd.read_csv('../public/deliveries.csv')\n",
    "# // Find the highest number of times one player has been dismissed by another player\n",
    "\n",
    "dfDeliveries_filterd=dfDeliveries[(dfDeliveries['player_dismissed'].notnull()) & (dfDeliveries['dismissal_kind']!='run out')]\n",
    "result=dfDeliveries_filterd.groupby(['player_dismissed','bowler']).size().reset_index(name='count')\n",
    "sorted_result=result.sort_values(by='count',ascending=False)\n",
    "\n",
    "sorted_result = sorted_result.reset_index(drop=True)\n",
    "temp=pd.Series({\n",
    "    \"Player Dismissed\":sorted_result.iloc[0]['player_dismissed'],\n",
    "    \"Bowler\":sorted_result.iloc[0]['bowler'],\n",
    "     \"Count Dismmised\":sorted_result.iloc[0]['count'],\n",
    "})\n",
    "temp.to_csv('../Output/8-problem.csv')\n",
    "\n"
   ]
  }
 ],
 "metadata": {
  "kernelspec": {
   "display_name": "venv",
   "language": "python",
   "name": "python3"
  },
  "language_info": {
   "codemirror_mode": {
    "name": "ipython",
    "version": 3
   },
   "file_extension": ".py",
   "mimetype": "text/x-python",
   "name": "python",
   "nbconvert_exporter": "python",
   "pygments_lexer": "ipython3",
   "version": "3.12.3"
  }
 },
 "nbformat": 4,
 "nbformat_minor": 5
}
