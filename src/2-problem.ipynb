{
 "cells": [
  {
   "cell_type": "code",
   "execution_count": null,
   "id": "e8c4adcd",
   "metadata": {},
   "outputs": [],
   "source": [
    "import pandas as pd\n",
    "\n",
    "dfMatches=pd.read_csv('../public/matches.csv')\n",
    "# // Number of matches won per team per year in IPL.\n"
   ]
  },
  {
   "cell_type": "code",
   "execution_count": 19,
   "id": "05021144",
   "metadata": {},
   "outputs": [],
   "source": [
    "def getMatchesWonPerTeam(dfMatches):\n",
    "    result=dfMatches.groupby(['season','winner']).size()\n",
    "    return result.reset_index(name='Matches_Won')"
   ]
  },
  {
   "cell_type": "code",
   "execution_count": null,
   "id": "55dc4198",
   "metadata": {},
   "outputs": [],
   "source": [
    "\n",
    "result=getMatchesWonPerTeam(dfMatches)\n",
    "result.to_csv('../Output/2-proble.csv')"
   ]
  },
  {
   "cell_type": "code",
   "execution_count": null,
   "id": "ce33ff5b",
   "metadata": {},
   "outputs": [],
   "source": []
  }
 ],
 "metadata": {
  "kernelspec": {
   "display_name": "venv",
   "language": "python",
   "name": "python3"
  },
  "language_info": {
   "codemirror_mode": {
    "name": "ipython",
    "version": 3
   },
   "file_extension": ".py",
   "mimetype": "text/x-python",
   "name": "python",
   "nbconvert_exporter": "python",
   "pygments_lexer": "ipython3",
   "version": "3.12.3"
  }
 },
 "nbformat": 4,
 "nbformat_minor": 5
}
