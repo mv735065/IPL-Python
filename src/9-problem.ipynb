{
 "cells": [
  {
   "cell_type": "code",
   "execution_count": 4,
   "id": "9f82c46d",
   "metadata": {},
   "outputs": [],
   "source": [
    "import pandas as pd\n",
    "# //Find the bowler with the best economy in super overs\n",
    "\n",
    "dfDeliveries = pd.read_csv('../public/deliveries.csv')\n",
    "\n",
    "dfSuperoverDeliveries = dfDeliveries[dfDeliveries['is_super_over'] != 0]\n",
    "\n",
    "bowlers_stats = dfSuperoverDeliveries.groupby('bowler').agg(\n",
    "    total_runs=('total_runs', 'sum'),\n",
    "    total_balls=('ball', 'count')\n",
    ").reset_index()\n",
    "\n",
    "bowlers_stats['economy'] = bowlers_stats['total_runs'] / (bowlers_stats['total_balls'] / 6)\n",
    "\n",
    "best_economy = bowlers_stats['economy'].min()\n",
    "best_bowlers = bowlers_stats[bowlers_stats['economy'] == best_economy]\n",
    "\n",
    "best_bowlers[['bowler', 'economy']].to_csv('../Output/9-problem.csv')\n"
   ]
  },
  {
   "cell_type": "code",
   "execution_count": null,
   "id": "5cd6dfbd",
   "metadata": {},
   "outputs": [],
   "source": []
  }
 ],
 "metadata": {
  "kernelspec": {
   "display_name": "venv",
   "language": "python",
   "name": "python3"
  },
  "language_info": {
   "codemirror_mode": {
    "name": "ipython",
    "version": 3
   },
   "file_extension": ".py",
   "mimetype": "text/x-python",
   "name": "python",
   "nbconvert_exporter": "python",
   "pygments_lexer": "ipython3",
   "version": "3.12.3"
  }
 },
 "nbformat": 4,
 "nbformat_minor": 5
}
