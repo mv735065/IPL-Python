{
 "cells": [
  {
   "cell_type": "code",
   "execution_count": 2,
   "id": "e8be8e6e",
   "metadata": {},
   "outputs": [],
   "source": [
    "# // Top 10 economical bowlers in the year 2015\n",
    "\n",
    "import pandas as pd\n",
    "dfDeliveries=pd.read_csv('../public/deliveries.csv')\n",
    "dfMatches=pd.read_csv('../public/matches.csv')"
   ]
  },
  {
   "cell_type": "code",
   "execution_count": 33,
   "id": "25d63a30",
   "metadata": {},
   "outputs": [],
   "source": [
    "idsOf2015=dfMatches[dfMatches.season==2015]['id'].values\n",
    "df2015_deleiviers=dfDeliveries[dfDeliveries['match_id'].isin(idsOf2015)].copy()\n",
    "df2015_deleiviers['total_runs'] = (\n",
    "    df2015_deleiviers['batsman_runs'] +\n",
    "    df2015_deleiviers['wide_runs'] +\n",
    "    df2015_deleiviers['noball_runs']\n",
    ")\n",
    "\n",
    "df2015_deleiviers['legal_delivery'] = (\n",
    "    (df2015_deleiviers['wide_runs'] == 0) &\n",
    "    (df2015_deleiviers['noball_runs'] == 0)\n",
    ")\n",
    "\n",
    "bowler_stats=df2015_deleiviers.groupby('bowler').agg({\n",
    "    'total_runs':'sum',\n",
    "    'legal_delivery':'sum'\n",
    "})\n",
    "\n",
    "bowler_stats['economics']=round((bowler_stats['total_runs']*6)/bowler_stats['legal_delivery'],2)\n",
    "top_10=bowler_stats.sort_values('economics').head(10)\n",
    "top_10.to_csv('../Output/4-problem.csv')\n",
    "\n"
   ]
  },
  {
   "cell_type": "code",
   "execution_count": null,
   "id": "10098385",
   "metadata": {},
   "outputs": [],
   "source": []
  }
 ],
 "metadata": {
  "kernelspec": {
   "display_name": "venv",
   "language": "python",
   "name": "python3"
  },
  "language_info": {
   "codemirror_mode": {
    "name": "ipython",
    "version": 3
   },
   "file_extension": ".py",
   "mimetype": "text/x-python",
   "name": "python",
   "nbconvert_exporter": "python",
   "pygments_lexer": "ipython3",
   "version": "3.12.3"
  }
 },
 "nbformat": 4,
 "nbformat_minor": 5
}
