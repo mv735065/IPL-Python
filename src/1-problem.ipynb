{
 "cells": [
  {
   "cell_type": "code",
   "execution_count": 61,
   "id": "4176ddae",
   "metadata": {},
   "outputs": [],
   "source": [
    "import pandas as pd\n",
    "dfMatches=pd.read_csv('../public/matches.csv')\n"
   ]
  },
  {
   "cell_type": "code",
   "execution_count": 62,
   "id": "01882393",
   "metadata": {},
   "outputs": [],
   "source": [
    "def getCountOfMathcesPerYear(dfMatches):\n",
    "    result = dfMatches.groupby('season').size()\n",
    "    dfResult = result.reset_index(name='No of Matches')\n",
    "    dfResult.rename(columns={'season': 'Season'}, inplace=True)\n",
    "    return dfResult\n"
   ]
  },
  {
   "cell_type": "code",
   "execution_count": 63,
   "id": "d2ea4b54",
   "metadata": {},
   "outputs": [],
   "source": [
    "\n",
    "result=getCountOfMathcesPerYear(dfMatches)\n",
    "result.to_csv('../Output/1-problem.csv')\n"
   ]
  }
 ],
 "metadata": {
  "kernelspec": {
   "display_name": "venv",
   "language": "python",
   "name": "python3"
  },
  "language_info": {
   "codemirror_mode": {
    "name": "ipython",
    "version": 3
   },
   "file_extension": ".py",
   "mimetype": "text/x-python",
   "name": "python",
   "nbconvert_exporter": "python",
   "pygments_lexer": "ipython3",
   "version": "3.12.3"
  }
 },
 "nbformat": 4,
 "nbformat_minor": 5
}
