{
 "cells": [
  {
   "cell_type": "code",
   "execution_count": 2,
   "id": "9ab5c279",
   "metadata": {},
   "outputs": [],
   "source": [
    "import pandas as pd\n",
    "# // Extra runs conceded per team in the year 2016\n",
    "dfDeliveries=pd.read_csv('../public/deliveries.csv')\n",
    "dfMatches=pd.read_csv('../public/matches.csv')\n"
   ]
  },
  {
   "cell_type": "code",
   "execution_count": 5,
   "id": "474cf224",
   "metadata": {},
   "outputs": [],
   "source": [
    "ids2016=dfMatches[dfMatches['season']==2016]['id'].values\n",
    "\n",
    "result=dfDeliveries[dfDeliveries['match_id'].isin(ids2016)].groupby('bowling_team')\n",
    "totalRuns=result['extra_runs'].sum().reset_index(name='count')\n",
    "\n",
    "totalRuns.to_csv('../Output/3-problem.csv')\n"
   ]
  }
 ],
 "metadata": {
  "kernelspec": {
   "display_name": "venv",
   "language": "python",
   "name": "python3"
  },
  "language_info": {
   "codemirror_mode": {
    "name": "ipython",
    "version": 3
   },
   "file_extension": ".py",
   "mimetype": "text/x-python",
   "name": "python",
   "nbconvert_exporter": "python",
   "pygments_lexer": "ipython3",
   "version": "3.12.3"
  }
 },
 "nbformat": 4,
 "nbformat_minor": 5
}
